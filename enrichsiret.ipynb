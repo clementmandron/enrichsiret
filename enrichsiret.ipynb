{
 "cells": [
  {
   "cell_type": "code",
   "execution_count": 4,
   "metadata": {},
   "outputs": [],
   "source": [
    "# Importer les bibliothèques nécessaires\n",
    "import pandas as pd\n",
    "import requests\n",
    "import json\n",
    "\n",
    "# Charger de la clé API à partir du fichier de configuration\n",
    "def load_api_key():\n",
    "    try:\n",
    "        with open('local.config.json', 'r') as config_file:\n",
    "            config_data = json.load(config_file)\n",
    "            return config_data.get('api_key', '')\n",
    "    except FileNotFoundError:\n",
    "        print(\"Le fichier de configuration 'local.config.json' n'a pas été trouvé.\")\n",
    "        return ''\n",
    "\n",
    "\n",
    "# Définir la fonction pour obtenir le code commune à partir d'un SIRET\n",
    "def get_commune_from_siret(siret, api_key):\n",
    "    url = f'https://api.insee.fr/entreprises/sirene/V3/siret/{siret}'\n",
    "    \n",
    "    headers = {\n",
    "        'Authorization': f'Bearer {api_key}',\n",
    "        'Accept': 'application/json'\n",
    "    }\n",
    "\n",
    "    response = requests.get(url, headers=headers)\n",
    "\n",
    "    if response.status_code == 200:\n",
    "        data = response.json()\n",
    "        if 'etablissement' in data and data['etablissement']:\n",
    "            code_commune = data['etablissement']['adresseEtablissement']['codeCommuneEtablissement']\n",
    "            return code_commune\n",
    "    else:\n",
    "        print(f\"Erreur: {response.status_code}\")\n",
    "        return None\n",
    "\n",
    "\n",
    "# Charger la clé API à partir du fichier de configuration\n",
    "cle_api = load_api_key()\n",
    "\n",
    "# Charger le fichier CSV avec pandas\n",
    "df = pd.read_csv('enrichsiret.csv')\n",
    "\n",
    "# Appliquer la fonction pour obtenir le département et créer une nouvelle colonne\n",
    "df['Commune'] = df['SIRET'].apply(lambda x: get_commune_from_siret(str(x), cle_api))\n",
    "\n",
    "# Enregistrer le DataFrame résultant dans un nouveau fichier CSV\n",
    "df.to_csv('resultat_pandas.csv', index=False)"
   ]
  },
  {
   "cell_type": "code",
   "execution_count": null,
   "metadata": {},
   "outputs": [],
   "source": []
  }
 ],
 "metadata": {
  "kernelspec": {
   "display_name": "Python 3",
   "language": "python",
   "name": "python3"
  },
  "language_info": {
   "codemirror_mode": {
    "name": "ipython",
    "version": 3
   },
   "file_extension": ".py",
   "mimetype": "text/x-python",
   "name": "python",
   "nbconvert_exporter": "python",
   "pygments_lexer": "ipython3",
   "version": "3.12.0"
  }
 },
 "nbformat": 4,
 "nbformat_minor": 2
}
